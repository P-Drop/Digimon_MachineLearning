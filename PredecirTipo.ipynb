{
 "cells": [
  {
   "cell_type": "code",
   "execution_count": 130,
   "metadata": {},
   "outputs": [],
   "source": [
    "import pandas as pd\n",
    "import numpy as np\n",
    "import matplotlib.pyplot as plt\n",
    "import seaborn as sns\n",
    "from sklearn import metrics\n",
    "from sklearn.model_selection import train_test_split\n",
    "from sklearn.tree import DecisionTreeClassifier"
   ]
  },
  {
   "cell_type": "markdown",
   "metadata": {},
   "source": [
    "## Import data"
   ]
  },
  {
   "cell_type": "code",
   "execution_count": 131,
   "metadata": {},
   "outputs": [],
   "source": [
    "df = pd.read_csv('dataset/DigiDB_digimonlist.csv', index_col=0)"
   ]
  },
  {
   "cell_type": "markdown",
   "metadata": {},
   "source": [
    "## EDA"
   ]
  },
  {
   "cell_type": "code",
   "execution_count": 132,
   "metadata": {},
   "outputs": [
    {
     "data": {
      "text/plain": [
       "(249, 12)"
      ]
     },
     "execution_count": 132,
     "metadata": {},
     "output_type": "execute_result"
    }
   ],
   "source": [
    "df.shape"
   ]
  },
  {
   "cell_type": "code",
   "execution_count": 133,
   "metadata": {},
   "outputs": [
    {
     "name": "stdout",
     "output_type": "stream",
     "text": [
      "<class 'pandas.core.frame.DataFrame'>\n",
      "Index: 249 entries, 1 to 249\n",
      "Columns: 12 entries, Digimon to Lv50 Spd\n",
      "dtypes: int64(8), object(4)\n",
      "memory usage: 25.3+ KB\n"
     ]
    }
   ],
   "source": [
    "df.info(verbose=False)"
   ]
  },
  {
   "cell_type": "code",
   "execution_count": 134,
   "metadata": {},
   "outputs": [
    {
     "data": {
      "text/plain": [
       "Digimon        0\n",
       "Stage          0\n",
       "Type           0\n",
       "Attribute      0\n",
       "Memory         0\n",
       "Equip Slots    0\n",
       "Lv 50 HP       0\n",
       "Lv50 SP        0\n",
       "Lv50 Atk       0\n",
       "Lv50 Def       0\n",
       "Lv50 Int       0\n",
       "Lv50 Spd       0\n",
       "dtype: int64"
      ]
     },
     "execution_count": 134,
     "metadata": {},
     "output_type": "execute_result"
    }
   ],
   "source": [
    "df.isnull().sum()"
   ]
  },
  {
   "cell_type": "code",
   "execution_count": 135,
   "metadata": {},
   "outputs": [
    {
     "data": {
      "text/plain": [
       "Index(['Digimon', 'Stage', 'Type', 'Attribute', 'Memory', 'Equip Slots',\n",
       "       'Lv 50 HP', 'Lv50 SP', 'Lv50 Atk', 'Lv50 Def', 'Lv50 Int', 'Lv50 Spd'],\n",
       "      dtype='object')"
      ]
     },
     "execution_count": 135,
     "metadata": {},
     "output_type": "execute_result"
    }
   ],
   "source": [
    "df.columns"
   ]
  },
  {
   "cell_type": "code",
   "execution_count": 136,
   "metadata": {},
   "outputs": [
    {
     "data": {
      "text/html": [
       "<div>\n",
       "<style scoped>\n",
       "    .dataframe tbody tr th:only-of-type {\n",
       "        vertical-align: middle;\n",
       "    }\n",
       "\n",
       "    .dataframe tbody tr th {\n",
       "        vertical-align: top;\n",
       "    }\n",
       "\n",
       "    .dataframe thead th {\n",
       "        text-align: right;\n",
       "    }\n",
       "</style>\n",
       "<table border=\"1\" class=\"dataframe\">\n",
       "  <thead>\n",
       "    <tr style=\"text-align: right;\">\n",
       "      <th></th>\n",
       "      <th>Digimon</th>\n",
       "      <th>Stage</th>\n",
       "      <th>Type</th>\n",
       "      <th>Attribute</th>\n",
       "      <th>Memory</th>\n",
       "      <th>Equip Slots</th>\n",
       "      <th>Lv 50 HP</th>\n",
       "      <th>Lv50 SP</th>\n",
       "      <th>Lv50 Atk</th>\n",
       "      <th>Lv50 Def</th>\n",
       "      <th>Lv50 Int</th>\n",
       "      <th>Lv50 Spd</th>\n",
       "    </tr>\n",
       "    <tr>\n",
       "      <th>Number</th>\n",
       "      <th></th>\n",
       "      <th></th>\n",
       "      <th></th>\n",
       "      <th></th>\n",
       "      <th></th>\n",
       "      <th></th>\n",
       "      <th></th>\n",
       "      <th></th>\n",
       "      <th></th>\n",
       "      <th></th>\n",
       "      <th></th>\n",
       "      <th></th>\n",
       "    </tr>\n",
       "  </thead>\n",
       "  <tbody>\n",
       "    <tr>\n",
       "      <th>28</th>\n",
       "      <td>Kudamon</td>\n",
       "      <td>Rookie</td>\n",
       "      <td>Vaccine</td>\n",
       "      <td>Light</td>\n",
       "      <td>5</td>\n",
       "      <td>1</td>\n",
       "      <td>590</td>\n",
       "      <td>128</td>\n",
       "      <td>53</td>\n",
       "      <td>74</td>\n",
       "      <td>117</td>\n",
       "      <td>105</td>\n",
       "    </tr>\n",
       "    <tr>\n",
       "      <th>222</th>\n",
       "      <td>MetalEtemon</td>\n",
       "      <td>Mega</td>\n",
       "      <td>Virus</td>\n",
       "      <td>Earth</td>\n",
       "      <td>18</td>\n",
       "      <td>3</td>\n",
       "      <td>1630</td>\n",
       "      <td>128</td>\n",
       "      <td>134</td>\n",
       "      <td>188</td>\n",
       "      <td>89</td>\n",
       "      <td>124</td>\n",
       "    </tr>\n",
       "    <tr>\n",
       "      <th>102</th>\n",
       "      <td>Vegiemon</td>\n",
       "      <td>Champion</td>\n",
       "      <td>Virus</td>\n",
       "      <td>Plant</td>\n",
       "      <td>6</td>\n",
       "      <td>2</td>\n",
       "      <td>1380</td>\n",
       "      <td>79</td>\n",
       "      <td>113</td>\n",
       "      <td>106</td>\n",
       "      <td>87</td>\n",
       "      <td>88</td>\n",
       "    </tr>\n",
       "    <tr>\n",
       "      <th>81</th>\n",
       "      <td>Cyclonemon</td>\n",
       "      <td>Champion</td>\n",
       "      <td>Virus</td>\n",
       "      <td>Earth</td>\n",
       "      <td>6</td>\n",
       "      <td>2</td>\n",
       "      <td>940</td>\n",
       "      <td>84</td>\n",
       "      <td>131</td>\n",
       "      <td>128</td>\n",
       "      <td>93</td>\n",
       "      <td>81</td>\n",
       "    </tr>\n",
       "    <tr>\n",
       "      <th>107</th>\n",
       "      <td>Reppamon</td>\n",
       "      <td>Champion</td>\n",
       "      <td>Vaccine</td>\n",
       "      <td>Light</td>\n",
       "      <td>8</td>\n",
       "      <td>1</td>\n",
       "      <td>790</td>\n",
       "      <td>118</td>\n",
       "      <td>94</td>\n",
       "      <td>99</td>\n",
       "      <td>99</td>\n",
       "      <td>143</td>\n",
       "    </tr>\n",
       "  </tbody>\n",
       "</table>\n",
       "</div>"
      ],
      "text/plain": [
       "            Digimon     Stage     Type Attribute  Memory  Equip Slots  \\\n",
       "Number                                                                  \n",
       "28          Kudamon    Rookie  Vaccine     Light       5            1   \n",
       "222     MetalEtemon      Mega    Virus     Earth      18            3   \n",
       "102        Vegiemon  Champion    Virus     Plant       6            2   \n",
       "81       Cyclonemon  Champion    Virus     Earth       6            2   \n",
       "107        Reppamon  Champion  Vaccine     Light       8            1   \n",
       "\n",
       "        Lv 50 HP  Lv50 SP  Lv50 Atk  Lv50 Def  Lv50 Int  Lv50 Spd  \n",
       "Number                                                             \n",
       "28           590      128        53        74       117       105  \n",
       "222         1630      128       134       188        89       124  \n",
       "102         1380       79       113       106        87        88  \n",
       "81           940       84       131       128        93        81  \n",
       "107          790      118        94        99        99       143  "
      ]
     },
     "execution_count": 136,
     "metadata": {},
     "output_type": "execute_result"
    }
   ],
   "source": [
    "df.sample(5)"
   ]
  },
  {
   "cell_type": "code",
   "execution_count": 137,
   "metadata": {},
   "outputs": [
    {
     "data": {
      "text/html": [
       "<div>\n",
       "<style scoped>\n",
       "    .dataframe tbody tr th:only-of-type {\n",
       "        vertical-align: middle;\n",
       "    }\n",
       "\n",
       "    .dataframe tbody tr th {\n",
       "        vertical-align: top;\n",
       "    }\n",
       "\n",
       "    .dataframe thead th {\n",
       "        text-align: right;\n",
       "    }\n",
       "</style>\n",
       "<table border=\"1\" class=\"dataframe\">\n",
       "  <thead>\n",
       "    <tr style=\"text-align: right;\">\n",
       "      <th></th>\n",
       "      <th>count</th>\n",
       "      <th>unique</th>\n",
       "      <th>top</th>\n",
       "      <th>freq</th>\n",
       "    </tr>\n",
       "  </thead>\n",
       "  <tbody>\n",
       "    <tr>\n",
       "      <th>Digimon</th>\n",
       "      <td>249</td>\n",
       "      <td>249</td>\n",
       "      <td>Kuramon</td>\n",
       "      <td>1</td>\n",
       "    </tr>\n",
       "    <tr>\n",
       "      <th>Stage</th>\n",
       "      <td>249</td>\n",
       "      <td>8</td>\n",
       "      <td>Mega</td>\n",
       "      <td>74</td>\n",
       "    </tr>\n",
       "    <tr>\n",
       "      <th>Type</th>\n",
       "      <td>249</td>\n",
       "      <td>4</td>\n",
       "      <td>Virus</td>\n",
       "      <td>82</td>\n",
       "    </tr>\n",
       "    <tr>\n",
       "      <th>Attribute</th>\n",
       "      <td>249</td>\n",
       "      <td>9</td>\n",
       "      <td>Dark</td>\n",
       "      <td>37</td>\n",
       "    </tr>\n",
       "  </tbody>\n",
       "</table>\n",
       "</div>"
      ],
      "text/plain": [
       "          count unique      top freq\n",
       "Digimon     249    249  Kuramon    1\n",
       "Stage       249      8     Mega   74\n",
       "Type        249      4    Virus   82\n",
       "Attribute   249      9     Dark   37"
      ]
     },
     "execution_count": 137,
     "metadata": {},
     "output_type": "execute_result"
    }
   ],
   "source": [
    "df.select_dtypes(include=['object']).describe().T"
   ]
  },
  {
   "cell_type": "code",
   "execution_count": 138,
   "metadata": {},
   "outputs": [
    {
     "data": {
      "text/html": [
       "<div>\n",
       "<style scoped>\n",
       "    .dataframe tbody tr th:only-of-type {\n",
       "        vertical-align: middle;\n",
       "    }\n",
       "\n",
       "    .dataframe tbody tr th {\n",
       "        vertical-align: top;\n",
       "    }\n",
       "\n",
       "    .dataframe thead th {\n",
       "        text-align: right;\n",
       "    }\n",
       "</style>\n",
       "<table border=\"1\" class=\"dataframe\">\n",
       "  <thead>\n",
       "    <tr style=\"text-align: right;\">\n",
       "      <th></th>\n",
       "      <th>count</th>\n",
       "      <th>mean</th>\n",
       "      <th>std</th>\n",
       "      <th>min</th>\n",
       "      <th>25%</th>\n",
       "      <th>50%</th>\n",
       "      <th>75%</th>\n",
       "      <th>max</th>\n",
       "    </tr>\n",
       "  </thead>\n",
       "  <tbody>\n",
       "    <tr>\n",
       "      <th>Memory</th>\n",
       "      <td>249.0</td>\n",
       "      <td>11.987952</td>\n",
       "      <td>6.616501</td>\n",
       "      <td>2.0</td>\n",
       "      <td>6.0</td>\n",
       "      <td>12.0</td>\n",
       "      <td>18.0</td>\n",
       "      <td>25.0</td>\n",
       "    </tr>\n",
       "    <tr>\n",
       "      <th>Equip Slots</th>\n",
       "      <td>249.0</td>\n",
       "      <td>1.574297</td>\n",
       "      <td>0.854012</td>\n",
       "      <td>0.0</td>\n",
       "      <td>1.0</td>\n",
       "      <td>1.0</td>\n",
       "      <td>2.0</td>\n",
       "      <td>3.0</td>\n",
       "    </tr>\n",
       "    <tr>\n",
       "      <th>Lv 50 HP</th>\n",
       "      <td>249.0</td>\n",
       "      <td>1210.883534</td>\n",
       "      <td>326.102384</td>\n",
       "      <td>530.0</td>\n",
       "      <td>990.0</td>\n",
       "      <td>1180.0</td>\n",
       "      <td>1480.0</td>\n",
       "      <td>2080.0</td>\n",
       "    </tr>\n",
       "    <tr>\n",
       "      <th>Lv50 SP</th>\n",
       "      <td>249.0</td>\n",
       "      <td>109.779116</td>\n",
       "      <td>32.454115</td>\n",
       "      <td>50.0</td>\n",
       "      <td>84.0</td>\n",
       "      <td>104.0</td>\n",
       "      <td>132.0</td>\n",
       "      <td>203.0</td>\n",
       "    </tr>\n",
       "    <tr>\n",
       "      <th>Lv50 Atk</th>\n",
       "      <td>249.0</td>\n",
       "      <td>124.518072</td>\n",
       "      <td>45.639372</td>\n",
       "      <td>52.0</td>\n",
       "      <td>89.0</td>\n",
       "      <td>119.0</td>\n",
       "      <td>153.0</td>\n",
       "      <td>318.0</td>\n",
       "    </tr>\n",
       "    <tr>\n",
       "      <th>Lv50 Def</th>\n",
       "      <td>249.0</td>\n",
       "      <td>116.377510</td>\n",
       "      <td>32.132696</td>\n",
       "      <td>59.0</td>\n",
       "      <td>93.0</td>\n",
       "      <td>113.0</td>\n",
       "      <td>138.0</td>\n",
       "      <td>213.0</td>\n",
       "    </tr>\n",
       "    <tr>\n",
       "      <th>Lv50 Int</th>\n",
       "      <td>249.0</td>\n",
       "      <td>112.638554</td>\n",
       "      <td>41.562888</td>\n",
       "      <td>50.0</td>\n",
       "      <td>79.0</td>\n",
       "      <td>104.0</td>\n",
       "      <td>138.0</td>\n",
       "      <td>233.0</td>\n",
       "    </tr>\n",
       "    <tr>\n",
       "      <th>Lv50 Spd</th>\n",
       "      <td>249.0</td>\n",
       "      <td>120.401606</td>\n",
       "      <td>32.633339</td>\n",
       "      <td>61.0</td>\n",
       "      <td>92.0</td>\n",
       "      <td>119.0</td>\n",
       "      <td>143.0</td>\n",
       "      <td>218.0</td>\n",
       "    </tr>\n",
       "  </tbody>\n",
       "</table>\n",
       "</div>"
      ],
      "text/plain": [
       "             count         mean         std    min    25%     50%     75%  \\\n",
       "Memory       249.0    11.987952    6.616501    2.0    6.0    12.0    18.0   \n",
       "Equip Slots  249.0     1.574297    0.854012    0.0    1.0     1.0     2.0   \n",
       "Lv 50 HP     249.0  1210.883534  326.102384  530.0  990.0  1180.0  1480.0   \n",
       "Lv50 SP      249.0   109.779116   32.454115   50.0   84.0   104.0   132.0   \n",
       "Lv50 Atk     249.0   124.518072   45.639372   52.0   89.0   119.0   153.0   \n",
       "Lv50 Def     249.0   116.377510   32.132696   59.0   93.0   113.0   138.0   \n",
       "Lv50 Int     249.0   112.638554   41.562888   50.0   79.0   104.0   138.0   \n",
       "Lv50 Spd     249.0   120.401606   32.633339   61.0   92.0   119.0   143.0   \n",
       "\n",
       "                max  \n",
       "Memory         25.0  \n",
       "Equip Slots     3.0  \n",
       "Lv 50 HP     2080.0  \n",
       "Lv50 SP       203.0  \n",
       "Lv50 Atk      318.0  \n",
       "Lv50 Def      213.0  \n",
       "Lv50 Int      233.0  \n",
       "Lv50 Spd      218.0  "
      ]
     },
     "execution_count": 138,
     "metadata": {},
     "output_type": "execute_result"
    }
   ],
   "source": [
    "df.select_dtypes(exclude=['object']).describe().T"
   ]
  },
  {
   "cell_type": "code",
   "execution_count": 139,
   "metadata": {},
   "outputs": [],
   "source": [
    "TARGET = 'Type'"
   ]
  },
  {
   "cell_type": "code",
   "execution_count": 140,
   "metadata": {},
   "outputs": [
    {
     "data": {
      "image/png": "[encoded data removed]",
      "text/plain": [
       "<Figure size 1500x1000 with 2 Axes>"
      ]
     },
     "metadata": {},
     "output_type": "display_data"
    }
   ],
   "source": [
    "plt.figure(figsize=(15,10))\n",
    "ax1 = plt.subplot(2,1,1)\n",
    "ax1 = sns.boxplot(data=df, x=TARGET, y='Lv 50 HP')\n",
    "ax2 = plt.subplot(2,1,2)\n",
    "ax2 = sns.histplot(data=df, x='Stage', hue=TARGET, multiple='stack')\n",
    "plt.show()"
   ]
  },
  {
   "cell_type": "code",
   "execution_count": 141,
   "metadata": {},
   "outputs": [
    {
     "data": {
      "text/plain": [
       "Index(['Digimon', 'Stage', 'Type', 'Attribute'], dtype='object')"
      ]
     },
     "execution_count": 141,
     "metadata": {},
     "output_type": "execute_result"
    }
   ],
   "source": [
    "df.select_dtypes(include=['object']).columns"
   ]
  },
  {
   "cell_type": "code",
   "execution_count": 142,
   "metadata": {},
   "outputs": [],
   "source": [
    "def graficar_categoricas(df, lista_categoricas, TARGET):\n",
    "    plt.figure(figsize=(10,10))\n",
    "    for n in range(len(lista_categoricas)):\n",
    "        axs = plt.subplot(2,1,n+1)\n",
    "        axs = sns.histplot(data=df, x=lista_categoricas[n], hue=TARGET, multiple='stack')\n",
    "    plt.show()"
   ]
  },
  {
   "cell_type": "code",
   "execution_count": 143,
   "metadata": {},
   "outputs": [
    {
     "data": {
      "image/png": "[encoded data removed]",
      "text/plain": [
       "<Figure size 1000x1000 with 2 Axes>"
      ]
     },
     "metadata": {},
     "output_type": "display_data"
    }
   ],
   "source": [
    "graficar_categoricas(df, ['Stage', 'Attribute'], TARGET)"
   ]
  },
  {
   "cell_type": "code",
   "execution_count": 144,
   "metadata": {},
   "outputs": [
    {
     "data": {
      "text/plain": [
       "'Equip Slots'"
      ]
     },
     "execution_count": 144,
     "metadata": {},
     "output_type": "execute_result"
    }
   ],
   "source": [
    "df.select_dtypes(exclude=['object']).columns.tolist()[1]"
   ]
  },
  {
   "cell_type": "code",
   "execution_count": 145,
   "metadata": {},
   "outputs": [],
   "source": [
    "def graficar_numericas(df, lista_numericas, TARGET):\n",
    "    plt.figure(figsize=(20,15))\n",
    "    for n in range(len(lista_numericas)):\n",
    "        axs = plt.subplot(4,2,n+1)\n",
    "        axs = sns.boxplot(data=df, x=TARGET, y=lista_numericas[n])\n",
    "    plt.show()"
   ]
  },
  {
   "cell_type": "code",
   "execution_count": 146,
   "metadata": {},
   "outputs": [
    {
     "data": {
      "image/png": "[encoded data removed]",
      "text/plain": [
       "<Figure size 2000x1500 with 8 Axes>"
      ]
     },
     "metadata": {},
     "output_type": "display_data"
    }
   ],
   "source": [
    "graficar_numericas(df, df.select_dtypes(exclude='object').columns.to_list(), TARGET)"
   ]
  },
  {
   "cell_type": "markdown",
   "metadata": {},
   "source": [
    "## Convertir categóricas OHE"
   ]
  },
  {
   "cell_type": "code",
   "execution_count": 147,
   "metadata": {},
   "outputs": [],
   "source": [
    "lista_cat = df.select_dtypes(include=['object']).columns.tolist()"
   ]
  },
  {
   "cell_type": "code",
   "execution_count": 148,
   "metadata": {},
   "outputs": [
    {
     "data": {
      "text/plain": [
       "['Digimon', 'Stage', 'Type', 'Attribute']"
      ]
     },
     "execution_count": 148,
     "metadata": {},
     "output_type": "execute_result"
    }
   ],
   "source": [
    "lista_cat"
   ]
  },
  {
   "cell_type": "code",
   "execution_count": 149,
   "metadata": {},
   "outputs": [],
   "source": [
    "lista_cat.remove(TARGET)"
   ]
  },
  {
   "cell_type": "code",
   "execution_count": 150,
   "metadata": {},
   "outputs": [],
   "source": [
    "lista_cat.remove('Digimon')"
   ]
  },
  {
   "cell_type": "code",
   "execution_count": 151,
   "metadata": {},
   "outputs": [
    {
     "data": {
      "text/plain": [
       "['Stage', 'Attribute']"
      ]
     },
     "execution_count": 151,
     "metadata": {},
     "output_type": "execute_result"
    }
   ],
   "source": [
    "lista_cat"
   ]
  },
  {
   "cell_type": "code",
   "execution_count": 152,
   "metadata": {},
   "outputs": [],
   "source": [
    "dummieStage = pd.get_dummies(df['Stage'], prefix='Stage')"
   ]
  },
  {
   "cell_type": "code",
   "execution_count": 153,
   "metadata": {},
   "outputs": [],
   "source": [
    "df = df.join(dummieStage, on='Number', how='inner')"
   ]
  },
  {
   "cell_type": "code",
   "execution_count": 154,
   "metadata": {},
   "outputs": [],
   "source": [
    "dummieAttribute = pd.get_dummies(df['Attribute'], prefix='Att')"
   ]
  },
  {
   "cell_type": "code",
   "execution_count": 155,
   "metadata": {},
   "outputs": [],
   "source": [
    "df = df.join(dummieAttribute, on='Number', how='inner')"
   ]
  },
  {
   "cell_type": "code",
   "execution_count": 156,
   "metadata": {},
   "outputs": [
    {
     "data": {
      "text/html": [
       "<div>\n",
       "<style scoped>\n",
       "    .dataframe tbody tr th:only-of-type {\n",
       "        vertical-align: middle;\n",
       "    }\n",
       "\n",
       "    .dataframe tbody tr th {\n",
       "        vertical-align: top;\n",
       "    }\n",
       "\n",
       "    .dataframe thead th {\n",
       "        text-align: right;\n",
       "    }\n",
       "</style>\n",
       "<table border=\"1\" class=\"dataframe\">\n",
       "  <thead>\n",
       "    <tr style=\"text-align: right;\">\n",
       "      <th></th>\n",
       "      <th>Digimon</th>\n",
       "      <th>Stage</th>\n",
       "      <th>Type</th>\n",
       "      <th>Attribute</th>\n",
       "      <th>Memory</th>\n",
       "      <th>Equip Slots</th>\n",
       "      <th>Lv 50 HP</th>\n",
       "      <th>Lv50 SP</th>\n",
       "      <th>Lv50 Atk</th>\n",
       "      <th>Lv50 Def</th>\n",
       "      <th>...</th>\n",
       "      <th>Stage_Ultra</th>\n",
       "      <th>Att_Dark</th>\n",
       "      <th>Att_Earth</th>\n",
       "      <th>Att_Electric</th>\n",
       "      <th>Att_Fire</th>\n",
       "      <th>Att_Light</th>\n",
       "      <th>Att_Neutral</th>\n",
       "      <th>Att_Plant</th>\n",
       "      <th>Att_Water</th>\n",
       "      <th>Att_Wind</th>\n",
       "    </tr>\n",
       "    <tr>\n",
       "      <th>Number</th>\n",
       "      <th></th>\n",
       "      <th></th>\n",
       "      <th></th>\n",
       "      <th></th>\n",
       "      <th></th>\n",
       "      <th></th>\n",
       "      <th></th>\n",
       "      <th></th>\n",
       "      <th></th>\n",
       "      <th></th>\n",
       "      <th></th>\n",
       "      <th></th>\n",
       "      <th></th>\n",
       "      <th></th>\n",
       "      <th></th>\n",
       "      <th></th>\n",
       "      <th></th>\n",
       "      <th></th>\n",
       "      <th></th>\n",
       "      <th></th>\n",
       "      <th></th>\n",
       "    </tr>\n",
       "  </thead>\n",
       "  <tbody>\n",
       "    <tr>\n",
       "      <th>149</th>\n",
       "      <td>MegaSeadramon</td>\n",
       "      <td>Ultimate</td>\n",
       "      <td>Data</td>\n",
       "      <td>Water</td>\n",
       "      <td>12</td>\n",
       "      <td>2</td>\n",
       "      <td>1330</td>\n",
       "      <td>138</td>\n",
       "      <td>86</td>\n",
       "      <td>114</td>\n",
       "      <td>...</td>\n",
       "      <td>False</td>\n",
       "      <td>False</td>\n",
       "      <td>False</td>\n",
       "      <td>False</td>\n",
       "      <td>False</td>\n",
       "      <td>False</td>\n",
       "      <td>False</td>\n",
       "      <td>False</td>\n",
       "      <td>True</td>\n",
       "      <td>False</td>\n",
       "    </tr>\n",
       "  </tbody>\n",
       "</table>\n",
       "<p>1 rows × 29 columns</p>\n",
       "</div>"
      ],
      "text/plain": [
       "              Digimon     Stage  Type Attribute  Memory  Equip Slots  \\\n",
       "Number                                                                 \n",
       "149     MegaSeadramon  Ultimate  Data     Water      12            2   \n",
       "\n",
       "        Lv 50 HP  Lv50 SP  Lv50 Atk  Lv50 Def  ...  Stage_Ultra  Att_Dark  \\\n",
       "Number                                         ...                          \n",
       "149         1330      138        86       114  ...        False     False   \n",
       "\n",
       "        Att_Earth  Att_Electric  Att_Fire  Att_Light  Att_Neutral  Att_Plant  \\\n",
       "Number                                                                         \n",
       "149         False         False     False      False        False      False   \n",
       "\n",
       "        Att_Water  Att_Wind  \n",
       "Number                       \n",
       "149          True     False  \n",
       "\n",
       "[1 rows x 29 columns]"
      ]
     },
     "execution_count": 156,
     "metadata": {},
     "output_type": "execute_result"
    }
   ],
   "source": [
    "df.sample()"
   ]
  },
  {
   "cell_type": "code",
   "execution_count": 157,
   "metadata": {},
   "outputs": [],
   "source": [
    "col_borrar = ['Digimon', 'Stage', 'Attribute']"
   ]
  },
  {
   "cell_type": "code",
   "execution_count": 158,
   "metadata": {},
   "outputs": [],
   "source": [
    "df.drop(col_borrar, axis=1, inplace=True)"
   ]
  },
  {
   "cell_type": "code",
   "execution_count": 159,
   "metadata": {},
   "outputs": [
    {
     "data": {
      "text/html": [
       "<div>\n",
       "<style scoped>\n",
       "    .dataframe tbody tr th:only-of-type {\n",
       "        vertical-align: middle;\n",
       "    }\n",
       "\n",
       "    .dataframe tbody tr th {\n",
       "        vertical-align: top;\n",
       "    }\n",
       "\n",
       "    .dataframe thead th {\n",
       "        text-align: right;\n",
       "    }\n",
       "</style>\n",
       "<table border=\"1\" class=\"dataframe\">\n",
       "  <thead>\n",
       "    <tr style=\"text-align: right;\">\n",
       "      <th></th>\n",
       "      <th>Type</th>\n",
       "      <th>Memory</th>\n",
       "      <th>Equip Slots</th>\n",
       "      <th>Lv 50 HP</th>\n",
       "      <th>Lv50 SP</th>\n",
       "      <th>Lv50 Atk</th>\n",
       "      <th>Lv50 Def</th>\n",
       "      <th>Lv50 Int</th>\n",
       "      <th>Lv50 Spd</th>\n",
       "      <th>Stage_Armor</th>\n",
       "      <th>...</th>\n",
       "      <th>Stage_Ultra</th>\n",
       "      <th>Att_Dark</th>\n",
       "      <th>Att_Earth</th>\n",
       "      <th>Att_Electric</th>\n",
       "      <th>Att_Fire</th>\n",
       "      <th>Att_Light</th>\n",
       "      <th>Att_Neutral</th>\n",
       "      <th>Att_Plant</th>\n",
       "      <th>Att_Water</th>\n",
       "      <th>Att_Wind</th>\n",
       "    </tr>\n",
       "    <tr>\n",
       "      <th>Number</th>\n",
       "      <th></th>\n",
       "      <th></th>\n",
       "      <th></th>\n",
       "      <th></th>\n",
       "      <th></th>\n",
       "      <th></th>\n",
       "      <th></th>\n",
       "      <th></th>\n",
       "      <th></th>\n",
       "      <th></th>\n",
       "      <th></th>\n",
       "      <th></th>\n",
       "      <th></th>\n",
       "      <th></th>\n",
       "      <th></th>\n",
       "      <th></th>\n",
       "      <th></th>\n",
       "      <th></th>\n",
       "      <th></th>\n",
       "      <th></th>\n",
       "      <th></th>\n",
       "    </tr>\n",
       "  </thead>\n",
       "  <tbody>\n",
       "    <tr>\n",
       "      <th>230</th>\n",
       "      <td>Virus</td>\n",
       "      <td>22</td>\n",
       "      <td>1</td>\n",
       "      <td>1240</td>\n",
       "      <td>153</td>\n",
       "      <td>144</td>\n",
       "      <td>139</td>\n",
       "      <td>144</td>\n",
       "      <td>193</td>\n",
       "      <td>False</td>\n",
       "      <td>...</td>\n",
       "      <td>False</td>\n",
       "      <td>True</td>\n",
       "      <td>False</td>\n",
       "      <td>False</td>\n",
       "      <td>False</td>\n",
       "      <td>False</td>\n",
       "      <td>False</td>\n",
       "      <td>False</td>\n",
       "      <td>False</td>\n",
       "      <td>False</td>\n",
       "    </tr>\n",
       "  </tbody>\n",
       "</table>\n",
       "<p>1 rows × 26 columns</p>\n",
       "</div>"
      ],
      "text/plain": [
       "         Type  Memory  Equip Slots  Lv 50 HP  Lv50 SP  Lv50 Atk  Lv50 Def  \\\n",
       "Number                                                                      \n",
       "230     Virus      22            1      1240      153       144       139   \n",
       "\n",
       "        Lv50 Int  Lv50 Spd  Stage_Armor  ...  Stage_Ultra  Att_Dark  \\\n",
       "Number                                   ...                          \n",
       "230          144       193        False  ...        False      True   \n",
       "\n",
       "        Att_Earth  Att_Electric  Att_Fire  Att_Light  Att_Neutral  Att_Plant  \\\n",
       "Number                                                                         \n",
       "230         False         False     False      False        False      False   \n",
       "\n",
       "        Att_Water  Att_Wind  \n",
       "Number                       \n",
       "230         False     False  \n",
       "\n",
       "[1 rows x 26 columns]"
      ]
     },
     "execution_count": 159,
     "metadata": {},
     "output_type": "execute_result"
    }
   ],
   "source": [
    "df.sample()"
   ]
  },
  {
   "cell_type": "code",
   "execution_count": 160,
   "metadata": {},
   "outputs": [],
   "source": [
    "lista_atributos = df.columns.tolist()"
   ]
  },
  {
   "cell_type": "code",
   "execution_count": 166,
   "metadata": {},
   "outputs": [],
   "source": [
    "lista_atributos.remove(TARGET)"
   ]
  },
  {
   "cell_type": "code",
   "execution_count": 167,
   "metadata": {},
   "outputs": [],
   "source": [
    "X_train, X_test, y_train, y_test = train_test_split(df[lista_atributos], df[TARGET], train_size=0.15, random_state=42)"
   ]
  },
  {
   "cell_type": "code",
   "execution_count": 168,
   "metadata": {},
   "outputs": [],
   "source": [
    "dt = DecisionTreeClassifier(criterion='gini', max_depth=4, random_state=42)"
   ]
  },
  {
   "cell_type": "code",
   "execution_count": 170,
   "metadata": {},
   "outputs": [
    {
     "data": {
      "text/html": [
       "<style>#sk-container-id-2 {color: black;}#sk-container-id-2 pre{padding: 0;}#sk-container-id-2 div.sk-toggleable {background-color: white;}#sk-container-id-2 label.sk-toggleable__label {cursor: pointer;display: block;width: 100%;margin-bottom: 0;padding: 0.3em;box-sizing: border-box;text-align: center;}#sk-container-id-2 label.sk-toggleable__label-arrow:before {content: \"▸\";float: left;margin-right: 0.25em;color: #696969;}#sk-container-id-2 label.sk-toggleable__label-arrow:hover:before {color: black;}#sk-container-id-2 div.sk-estimator:hover label.sk-toggleable__label-arrow:before {color: black;}#sk-container-id-2 div.sk-toggleable__content {max-height: 0;max-width: 0;overflow: hidden;text-align: left;background-color: #f0f8ff;}#sk-container-id-2 div.sk-toggleable__content pre {margin: 0.2em;color: black;border-radius: 0.25em;background-color: #f0f8ff;}#sk-container-id-2 input.sk-toggleable__control:checked~div.sk-toggleable__content {max-height: 200px;max-width: 100%;overflow: auto;}#sk-container-id-2 input.sk-toggleable__control:checked~label.sk-toggleable__label-arrow:before {content: \"▾\";}#sk-container-id-2 div.sk-estimator input.sk-toggleable__control:checked~label.sk-toggleable__label {background-color: #d4ebff;}#sk-container-id-2 div.sk-label input.sk-toggleable__control:checked~label.sk-toggleable__label {background-color: #d4ebff;}#sk-container-id-2 input.sk-hidden--visually {border: 0;clip: rect(1px 1px 1px 1px);clip: rect(1px, 1px, 1px, 1px);height: 1px;margin: -1px;overflow: hidden;padding: 0;position: absolute;width: 1px;}#sk-container-id-2 div.sk-estimator {font-family: monospace;background-color: #f0f8ff;border: 1px dotted black;border-radius: 0.25em;box-sizing: border-box;margin-bottom: 0.5em;}#sk-container-id-2 div.sk-estimator:hover {background-color: #d4ebff;}#sk-container-id-2 div.sk-parallel-item::after {content: \"\";width: 100%;border-bottom: 1px solid gray;flex-grow: 1;}#sk-container-id-2 div.sk-label:hover label.sk-toggleable__label {background-color: #d4ebff;}#sk-container-id-2 div.sk-serial::before {content: \"\";position: absolute;border-left: 1px solid gray;box-sizing: border-box;top: 0;bottom: 0;left: 50%;z-index: 0;}#sk-container-id-2 div.sk-serial {display: flex;flex-direction: column;align-items: center;background-color: white;padding-right: 0.2em;padding-left: 0.2em;position: relative;}#sk-container-id-2 div.sk-item {position: relative;z-index: 1;}#sk-container-id-2 div.sk-parallel {display: flex;align-items: stretch;justify-content: center;background-color: white;position: relative;}#sk-container-id-2 div.sk-item::before, #sk-container-id-2 div.sk-parallel-item::before {content: \"\";position: absolute;border-left: 1px solid gray;box-sizing: border-box;top: 0;bottom: 0;left: 50%;z-index: -1;}#sk-container-id-2 div.sk-parallel-item {display: flex;flex-direction: column;z-index: 1;position: relative;background-color: white;}#sk-container-id-2 div.sk-parallel-item:first-child::after {align-self: flex-end;width: 50%;}#sk-container-id-2 div.sk-parallel-item:last-child::after {align-self: flex-start;width: 50%;}#sk-container-id-2 div.sk-parallel-item:only-child::after {width: 0;}#sk-container-id-2 div.sk-dashed-wrapped {border: 1px dashed gray;margin: 0 0.4em 0.5em 0.4em;box-sizing: border-box;padding-bottom: 0.4em;background-color: white;}#sk-container-id-2 div.sk-label label {font-family: monospace;font-weight: bold;display: inline-block;line-height: 1.2em;}#sk-container-id-2 div.sk-label-container {text-align: center;}#sk-container-id-2 div.sk-container {/* jupyter's `normalize.less` sets `[hidden] { display: none; }` but bootstrap.min.css set `[hidden] { display: none !important; }` so we also need the `!important` here to be able to override the default hidden behavior on the sphinx rendered scikit-learn.org. See: https://github.com/scikit-learn/scikit-learn/issues/21755 */display: inline-block !important;position: relative;}#sk-container-id-2 div.sk-text-repr-fallback {display: none;}</style><div id=\"sk-container-id-2\" class=\"sk-top-container\"><div class=\"sk-text-repr-fallback\"><pre>DecisionTreeClassifier(max_depth=4, random_state=42)</pre><b>In a Jupyter environment, please rerun this cell to show the HTML representation or trust the notebook. <br />On GitHub, the HTML representation is unable to render, please try loading this page with nbviewer.org.</b></div><div class=\"sk-container\" hidden><div class=\"sk-item\"><div class=\"sk-estimator sk-toggleable\"><input class=\"sk-toggleable__control sk-hidden--visually\" id=\"sk-estimator-id-2\" type=\"checkbox\" checked><label for=\"sk-estimator-id-2\" class=\"sk-toggleable__label sk-toggleable__label-arrow\">DecisionTreeClassifier</label><div class=\"sk-toggleable__content\"><pre>DecisionTreeClassifier(max_depth=4, random_state=42)</pre></div></div></div></div></div>"
      ],
      "text/plain": [
       "DecisionTreeClassifier(max_depth=4, random_state=42)"
      ]
     },
     "execution_count": 170,
     "metadata": {},
     "output_type": "execute_result"
    }
   ],
   "source": [
    "dt.fit(X_train, y_train)"
   ]
  },
  {
   "cell_type": "code",
   "execution_count": null,
   "metadata": {},
   "outputs": [],
   "source": [
    "import graphviz\n",
    "from sklearn.tree import export_graphviz"
   ]
  },
  {
   "cell_type": "code",
   "execution_count": null,
   "metadata": {},
   "outputs": [],
   "source": [
    "doc_data = export_graphviz (\n",
    "    decision_tree=dt,\n",
    "    feature_names=X_train.columns,\n",
    "    rounded=True,\n",
    "    proportion=True,\n",
    "    precision=2,\n",
    "    filled=True\n",
    ")"
   ]
  },
  {
   "cell_type": "code",
   "execution_count": null,
   "metadata": {},
   "outputs": [
    {
     "data": {
      "image/svg+xml": [
       "<?xml version=\"1.0\" encoding=\"UTF-8\" standalone=\"no\"?>\n",
       "<!DOCTYPE svg PUBLIC \"-//W3C//DTD SVG 1.1//EN\"\n",
       " \"http://www.w3.org/Graphics/SVG/1.1/DTD/svg11.dtd\">\n",
       "<!-- Generated by graphviz version 8.1.0 (20230707.0739)\n",
       " -->\n",
       "<!-- Title: Tree Pages: 1 -->\n",
       "<svg width=\"1063pt\" height=\"491pt\"\n",
       " viewBox=\"0.00 0.00 1063.00 491.25\" xmlns=\"http://www.w3.org/2000/svg\" xmlns:xlink=\"http://www.w3.org/1999/xlink\">\n",
       "<g id=\"graph0\" class=\"graph\" transform=\"scale(1 1) rotate(0) translate(4 487.25)\">\n",
       "<title>Tree</title>\n",
       "<polygon fill=\"white\" stroke=\"none\" points=\"-4,4 -4,-487.25 1059,-487.25 1059,4 -4,4\"/>\n",
       "<!-- 0 -->\n",
       "<g id=\"node1\" class=\"node\">\n",
       "<title>0</title>\n",
       "<path fill=\"#d9ecfa\" stroke=\"black\" d=\"M768.25,-483.25C768.25,-483.25 600.75,-483.25 600.75,-483.25 594.75,-483.25 588.75,-477.25 588.75,-471.25 588.75,-471.25 588.75,-424.25 588.75,-424.25 588.75,-418.25 594.75,-412.25 600.75,-412.25 600.75,-412.25 768.25,-412.25 768.25,-412.25 774.25,-412.25 780.25,-418.25 780.25,-424.25 780.25,-424.25 780.25,-471.25 780.25,-471.25 780.25,-477.25 774.25,-483.25 768.25,-483.25\"/>\n",
       "<text text-anchor=\"middle\" x=\"684.5\" y=\"-465.95\" font-family=\"Helvetica,sans-Serif\" font-size=\"14.00\">Lv 50 HP &lt;= 1485.0</text>\n",
       "<text text-anchor=\"middle\" x=\"684.5\" y=\"-450.2\" font-family=\"Helvetica,sans-Serif\" font-size=\"14.00\">gini = 0.68</text>\n",
       "<text text-anchor=\"middle\" x=\"684.5\" y=\"-434.45\" font-family=\"Helvetica,sans-Serif\" font-size=\"14.00\">samples = 100.0%</text>\n",
       "<text text-anchor=\"middle\" x=\"684.5\" y=\"-418.7\" font-family=\"Helvetica,sans-Serif\" font-size=\"14.00\">value = [0.3, 0.08, 0.43, 0.19]</text>\n",
       "</g>\n",
       "<!-- 1 -->\n",
       "<g id=\"node2\" class=\"node\">\n",
       "<title>1</title>\n",
       "<path fill=\"#fae6d7\" stroke=\"black\" d=\"M670.62,-376.25C670.62,-376.25 496.38,-376.25 496.38,-376.25 490.38,-376.25 484.38,-370.25 484.38,-364.25 484.38,-364.25 484.38,-317.25 484.38,-317.25 484.38,-311.25 490.38,-305.25 496.38,-305.25 496.38,-305.25 670.62,-305.25 670.62,-305.25 676.62,-305.25 682.62,-311.25 682.62,-317.25 682.62,-317.25 682.62,-364.25 682.62,-364.25 682.62,-370.25 676.62,-376.25 670.62,-376.25\"/>\n",
       "<text text-anchor=\"middle\" x=\"583.5\" y=\"-358.95\" font-family=\"Helvetica,sans-Serif\" font-size=\"14.00\">Lv50 Spd &lt;= 141.0</text>\n",
       "<text text-anchor=\"middle\" x=\"583.5\" y=\"-343.2\" font-family=\"Helvetica,sans-Serif\" font-size=\"14.00\">gini = 0.71</text>\n",
       "<text text-anchor=\"middle\" x=\"583.5\" y=\"-327.45\" font-family=\"Helvetica,sans-Serif\" font-size=\"14.00\">samples = 73.0%</text>\n",
       "<text text-anchor=\"middle\" x=\"583.5\" y=\"-311.7\" font-family=\"Helvetica,sans-Serif\" font-size=\"14.00\">value = [0.41, 0.11, 0.26, 0.22]</text>\n",
       "</g>\n",
       "<!-- 0&#45;&gt;1 -->\n",
       "<g id=\"edge1\" class=\"edge\">\n",
       "<title>0&#45;&gt;1</title>\n",
       "<path fill=\"none\" stroke=\"black\" d=\"M650.87,-411.79C642.44,-403.02 633.29,-393.52 624.54,-384.42\"/>\n",
       "<polygon fill=\"black\" stroke=\"black\" points=\"627.44,-382.34 617.98,-377.56 622.39,-387.19 627.44,-382.34\"/>\n",
       "<text text-anchor=\"middle\" x=\"616.5\" y=\"-396.13\" font-family=\"Helvetica,sans-Serif\" font-size=\"14.00\">True</text>\n",
       "</g>\n",
       "<!-- 10 -->\n",
       "<g id=\"node11\" class=\"node\">\n",
       "<title>10</title>\n",
       "<path fill=\"#4fa8e8\" stroke=\"black\" d=\"M858,-376.25C858,-376.25 713,-376.25 713,-376.25 707,-376.25 701,-370.25 701,-364.25 701,-364.25 701,-317.25 701,-317.25 701,-311.25 707,-305.25 713,-305.25 713,-305.25 858,-305.25 858,-305.25 864,-305.25 870,-311.25 870,-317.25 870,-317.25 870,-364.25 870,-364.25 870,-370.25 864,-376.25 858,-376.25\"/>\n",
       "<text text-anchor=\"middle\" x=\"785.5\" y=\"-358.95\" font-family=\"Helvetica,sans-Serif\" font-size=\"14.00\">Lv50 Spd &lt;= 168.0</text>\n",
       "<text text-anchor=\"middle\" x=\"785.5\" y=\"-343.2\" font-family=\"Helvetica,sans-Serif\" font-size=\"14.00\">gini = 0.18</text>\n",
       "<text text-anchor=\"middle\" x=\"785.5\" y=\"-327.45\" font-family=\"Helvetica,sans-Serif\" font-size=\"14.00\">samples = 27.0%</text>\n",
       "<text text-anchor=\"middle\" x=\"785.5\" y=\"-311.7\" font-family=\"Helvetica,sans-Serif\" font-size=\"14.00\">value = [0.0, 0.0, 0.9, 0.1]</text>\n",
       "</g>\n",
       "<!-- 0&#45;&gt;10 -->\n",
       "<g id=\"edge10\" class=\"edge\">\n",
       "<title>0&#45;&gt;10</title>\n",
       "<path fill=\"none\" stroke=\"black\" d=\"M718.13,-411.79C726.56,-403.02 735.71,-393.52 744.46,-384.42\"/>\n",
       "<polygon fill=\"black\" stroke=\"black\" points=\"746.61,-387.19 751.02,-377.56 741.56,-382.34 746.61,-387.19\"/>\n",
       "<text text-anchor=\"middle\" x=\"752.5\" y=\"-396.13\" font-family=\"Helvetica,sans-Serif\" font-size=\"14.00\">False</text>\n",
       "</g>\n",
       "<!-- 2 -->\n",
       "<g id=\"node3\" class=\"node\">\n",
       "<title>2</title>\n",
       "<path fill=\"#f9e4d5\" stroke=\"black\" d=\"M463.5,-269.25C463.5,-269.25 303.5,-269.25 303.5,-269.25 297.5,-269.25 291.5,-263.25 291.5,-257.25 291.5,-257.25 291.5,-210.25 291.5,-210.25 291.5,-204.25 297.5,-198.25 303.5,-198.25 303.5,-198.25 463.5,-198.25 463.5,-198.25 469.5,-198.25 475.5,-204.25 475.5,-210.25 475.5,-210.25 475.5,-257.25 475.5,-257.25 475.5,-263.25 469.5,-269.25 463.5,-269.25\"/>\n",
       "<text text-anchor=\"middle\" x=\"383.5\" y=\"-251.95\" font-family=\"Helvetica,sans-Serif\" font-size=\"14.00\">Lv50 Atk &lt;= 140.5</text>\n",
       "<text text-anchor=\"middle\" x=\"383.5\" y=\"-236.2\" font-family=\"Helvetica,sans-Serif\" font-size=\"14.00\">gini = 0.68</text>\n",
       "<text text-anchor=\"middle\" x=\"383.5\" y=\"-220.45\" font-family=\"Helvetica,sans-Serif\" font-size=\"14.00\">samples = 54.1%</text>\n",
       "<text text-anchor=\"middle\" x=\"383.5\" y=\"-204.7\" font-family=\"Helvetica,sans-Serif\" font-size=\"14.00\">value = [0.45, 0.15, 0.1, 0.3]</text>\n",
       "</g>\n",
       "<!-- 1&#45;&gt;2 -->\n",
       "<g id=\"edge2\" class=\"edge\">\n",
       "<title>1&#45;&gt;2</title>\n",
       "<path fill=\"none\" stroke=\"black\" d=\"M516.9,-304.79C498.61,-295.18 478.64,-284.7 459.85,-274.83\"/>\n",
       "<polygon fill=\"black\" stroke=\"black\" points=\"461.63,-271.29 451.15,-269.74 458.37,-277.49 461.63,-271.29\"/>\n",
       "</g>\n",
       "<!-- 7 -->\n",
       "<g id=\"node8\" class=\"node\">\n",
       "<title>7</title>\n",
       "<path fill=\"#88c4ef\" stroke=\"black\" d=\"M665.5,-269.25C665.5,-269.25 505.5,-269.25 505.5,-269.25 499.5,-269.25 493.5,-263.25 493.5,-257.25 493.5,-257.25 493.5,-210.25 493.5,-210.25 493.5,-204.25 499.5,-198.25 505.5,-198.25 505.5,-198.25 665.5,-198.25 665.5,-198.25 671.5,-198.25 677.5,-204.25 677.5,-210.25 677.5,-210.25 677.5,-257.25 677.5,-257.25 677.5,-263.25 671.5,-269.25 665.5,-269.25\"/>\n",
       "<text text-anchor=\"middle\" x=\"585.5\" y=\"-251.95\" font-family=\"Helvetica,sans-Serif\" font-size=\"14.00\">Att_Plant &lt;= 0.5</text>\n",
       "<text text-anchor=\"middle\" x=\"585.5\" y=\"-236.2\" font-family=\"Helvetica,sans-Serif\" font-size=\"14.00\">gini = 0.41</text>\n",
       "<text text-anchor=\"middle\" x=\"585.5\" y=\"-220.45\" font-family=\"Helvetica,sans-Serif\" font-size=\"14.00\">samples = 18.9%</text>\n",
       "<text text-anchor=\"middle\" x=\"585.5\" y=\"-204.7\" font-family=\"Helvetica,sans-Serif\" font-size=\"14.00\">value = [0.29, 0.0, 0.71, 0.0]</text>\n",
       "</g>\n",
       "<!-- 1&#45;&gt;7 -->\n",
       "<g id=\"edge7\" class=\"edge\">\n",
       "<title>1&#45;&gt;7</title>\n",
       "<path fill=\"none\" stroke=\"black\" d=\"M584.17,-304.79C584.31,-296.99 584.47,-288.62 584.63,-280.47\"/>\n",
       "<polygon fill=\"black\" stroke=\"black\" points=\"588.15,-280.63 584.84,-270.56 581.15,-280.49 588.15,-280.63\"/>\n",
       "</g>\n",
       "<!-- 3 -->\n",
       "<g id=\"node4\" class=\"node\">\n",
       "<title>3</title>\n",
       "<path fill=\"#f4c9aa\" stroke=\"black\" d=\"M273,-162.25C273,-162.25 98,-162.25 98,-162.25 92,-162.25 86,-156.25 86,-150.25 86,-150.25 86,-103.25 86,-103.25 86,-97.25 92,-91.25 98,-91.25 98,-91.25 273,-91.25 273,-91.25 279,-91.25 285,-97.25 285,-103.25 285,-103.25 285,-150.25 285,-150.25 285,-156.25 279,-162.25 273,-162.25\"/>\n",
       "<text text-anchor=\"middle\" x=\"185.5\" y=\"-144.95\" font-family=\"Helvetica,sans-Serif\" font-size=\"14.00\">Lv50 Spd &lt;= 80.0</text>\n",
       "<text text-anchor=\"middle\" x=\"185.5\" y=\"-129.2\" font-family=\"Helvetica,sans-Serif\" font-size=\"14.00\">gini = 0.64</text>\n",
       "<text text-anchor=\"middle\" x=\"185.5\" y=\"-113.45\" font-family=\"Helvetica,sans-Serif\" font-size=\"14.00\">samples = 45.9%</text>\n",
       "<text text-anchor=\"middle\" x=\"185.5\" y=\"-97.7\" font-family=\"Helvetica,sans-Serif\" font-size=\"14.00\">value = [0.53, 0.18, 0.12, 0.18]</text>\n",
       "</g>\n",
       "<!-- 2&#45;&gt;3 -->\n",
       "<g id=\"edge3\" class=\"edge\">\n",
       "<title>2&#45;&gt;3</title>\n",
       "<path fill=\"none\" stroke=\"black\" d=\"M317.57,-197.79C299.46,-188.18 279.69,-177.7 261.09,-167.83\"/>\n",
       "<polygon fill=\"black\" stroke=\"black\" points=\"262.95,-164.33 252.48,-162.74 259.68,-170.52 262.95,-164.33\"/>\n",
       "</g>\n",
       "<!-- 6 -->\n",
       "<g id=\"node7\" class=\"node\">\n",
       "<title>6</title>\n",
       "<path fill=\"#d739e5\" stroke=\"black\" d=\"M460,-154.38C460,-154.38 315,-154.38 315,-154.38 309,-154.38 303,-148.38 303,-142.38 303,-142.38 303,-111.12 303,-111.12 303,-105.12 309,-99.12 315,-99.12 315,-99.12 460,-99.12 460,-99.12 466,-99.12 472,-105.12 472,-111.12 472,-111.12 472,-142.38 472,-142.38 472,-148.38 466,-154.38 460,-154.38\"/>\n",
       "<text text-anchor=\"middle\" x=\"387.5\" y=\"-137.07\" font-family=\"Helvetica,sans-Serif\" font-size=\"14.00\">gini = 0.0</text>\n",
       "<text text-anchor=\"middle\" x=\"387.5\" y=\"-121.33\" font-family=\"Helvetica,sans-Serif\" font-size=\"14.00\">samples = 8.1%</text>\n",
       "<text text-anchor=\"middle\" x=\"387.5\" y=\"-105.58\" font-family=\"Helvetica,sans-Serif\" font-size=\"14.00\">value = [0.0, 0.0, 0.0, 1.0]</text>\n",
       "</g>\n",
       "<!-- 2&#45;&gt;6 -->\n",
       "<g id=\"edge6\" class=\"edge\">\n",
       "<title>2&#45;&gt;6</title>\n",
       "<path fill=\"none\" stroke=\"black\" d=\"M384.83,-197.79C385.23,-187.45 385.66,-176.08 386.06,-165.57\"/>\n",
       "<polygon fill=\"black\" stroke=\"black\" points=\"389.59,-165.72 386.48,-155.59 382.6,-165.45 389.59,-165.72\"/>\n",
       "</g>\n",
       "<!-- 4 -->\n",
       "<g id=\"node5\" class=\"node\">\n",
       "<title>4</title>\n",
       "<path fill=\"#ffffff\" stroke=\"black\" d=\"M157,-55.25C157,-55.25 12,-55.25 12,-55.25 6,-55.25 0,-49.25 0,-43.25 0,-43.25 0,-12 0,-12 0,-6 6,0 12,0 12,0 157,0 157,0 163,0 169,-6 169,-12 169,-12 169,-43.25 169,-43.25 169,-49.25 163,-55.25 157,-55.25\"/>\n",
       "<text text-anchor=\"middle\" x=\"84.5\" y=\"-37.95\" font-family=\"Helvetica,sans-Serif\" font-size=\"14.00\">gini = 0.5</text>\n",
       "<text text-anchor=\"middle\" x=\"84.5\" y=\"-22.2\" font-family=\"Helvetica,sans-Serif\" font-size=\"14.00\">samples = 10.8%</text>\n",
       "<text text-anchor=\"middle\" x=\"84.5\" y=\"-6.45\" font-family=\"Helvetica,sans-Serif\" font-size=\"14.00\">value = [0.0, 0.5, 0.0, 0.5]</text>\n",
       "</g>\n",
       "<!-- 3&#45;&gt;4 -->\n",
       "<g id=\"edge4\" class=\"edge\">\n",
       "<title>3&#45;&gt;4</title>\n",
       "<path fill=\"none\" stroke=\"black\" d=\"M149.32,-90.96C139.86,-81.86 129.66,-72.06 120.22,-62.98\"/>\n",
       "<polygon fill=\"black\" stroke=\"black\" points=\"123.14,-60.96 113.51,-56.56 118.29,-66.01 123.14,-60.96\"/>\n",
       "</g>\n",
       "<!-- 5 -->\n",
       "<g id=\"node6\" class=\"node\">\n",
       "<title>5</title>\n",
       "<path fill=\"#eeaf81\" stroke=\"black\" d=\"M374,-55.25C374,-55.25 199,-55.25 199,-55.25 193,-55.25 187,-49.25 187,-43.25 187,-43.25 187,-12 187,-12 187,-6 193,0 199,0 199,0 374,0 374,0 380,0 386,-6 386,-12 386,-12 386,-43.25 386,-43.25 386,-49.25 380,-55.25 374,-55.25\"/>\n",
       "<text text-anchor=\"middle\" x=\"286.5\" y=\"-37.95\" font-family=\"Helvetica,sans-Serif\" font-size=\"14.00\">gini = 0.49</text>\n",
       "<text text-anchor=\"middle\" x=\"286.5\" y=\"-22.2\" font-family=\"Helvetica,sans-Serif\" font-size=\"14.00\">samples = 35.1%</text>\n",
       "<text text-anchor=\"middle\" x=\"286.5\" y=\"-6.45\" font-family=\"Helvetica,sans-Serif\" font-size=\"14.00\">value = [0.69, 0.08, 0.15, 0.08]</text>\n",
       "</g>\n",
       "<!-- 3&#45;&gt;5 -->\n",
       "<g id=\"edge5\" class=\"edge\">\n",
       "<title>3&#45;&gt;5</title>\n",
       "<path fill=\"none\" stroke=\"black\" d=\"M221.68,-90.96C231.14,-81.86 241.34,-72.06 250.78,-62.98\"/>\n",
       "<polygon fill=\"black\" stroke=\"black\" points=\"252.71,-66.01 257.49,-56.56 247.86,-60.96 252.71,-66.01\"/>\n",
       "</g>\n",
       "<!-- 8 -->\n",
       "<g id=\"node9\" class=\"node\">\n",
       "<title>8</title>\n",
       "<path fill=\"#399de5\" stroke=\"black\" d=\"M654,-154.38C654,-154.38 509,-154.38 509,-154.38 503,-154.38 497,-148.38 497,-142.38 497,-142.38 497,-111.12 497,-111.12 497,-105.12 503,-99.12 509,-99.12 509,-99.12 654,-99.12 654,-99.12 660,-99.12 666,-105.12 666,-111.12 666,-111.12 666,-142.38 666,-142.38 666,-148.38 660,-154.38 654,-154.38\"/>\n",
       "<text text-anchor=\"middle\" x=\"581.5\" y=\"-137.07\" font-family=\"Helvetica,sans-Serif\" font-size=\"14.00\">gini = 0.0</text>\n",
       "<text text-anchor=\"middle\" x=\"581.5\" y=\"-121.33\" font-family=\"Helvetica,sans-Serif\" font-size=\"14.00\">samples = 13.5%</text>\n",
       "<text text-anchor=\"middle\" x=\"581.5\" y=\"-105.58\" font-family=\"Helvetica,sans-Serif\" font-size=\"14.00\">value = [0.0, 0.0, 1.0, 0.0]</text>\n",
       "</g>\n",
       "<!-- 7&#45;&gt;8 -->\n",
       "<g id=\"edge8\" class=\"edge\">\n",
       "<title>7&#45;&gt;8</title>\n",
       "<path fill=\"none\" stroke=\"black\" d=\"M584.17,-197.79C583.77,-187.45 583.34,-176.08 582.94,-165.57\"/>\n",
       "<polygon fill=\"black\" stroke=\"black\" points=\"586.4,-165.45 582.52,-155.59 579.41,-165.72 586.4,-165.45\"/>\n",
       "</g>\n",
       "<!-- 9 -->\n",
       "<g id=\"node10\" class=\"node\">\n",
       "<title>9</title>\n",
       "<path fill=\"#e58139\" stroke=\"black\" d=\"M841,-154.38C841,-154.38 696,-154.38 696,-154.38 690,-154.38 684,-148.38 684,-142.38 684,-142.38 684,-111.12 684,-111.12 684,-105.12 690,-99.12 696,-99.12 696,-99.12 841,-99.12 841,-99.12 847,-99.12 853,-105.12 853,-111.12 853,-111.12 853,-142.38 853,-142.38 853,-148.38 847,-154.38 841,-154.38\"/>\n",
       "<text text-anchor=\"middle\" x=\"768.5\" y=\"-137.07\" font-family=\"Helvetica,sans-Serif\" font-size=\"14.00\">gini = 0.0</text>\n",
       "<text text-anchor=\"middle\" x=\"768.5\" y=\"-121.33\" font-family=\"Helvetica,sans-Serif\" font-size=\"14.00\">samples = 5.4%</text>\n",
       "<text text-anchor=\"middle\" x=\"768.5\" y=\"-105.58\" font-family=\"Helvetica,sans-Serif\" font-size=\"14.00\">value = [1.0, 0.0, 0.0, 0.0]</text>\n",
       "</g>\n",
       "<!-- 7&#45;&gt;9 -->\n",
       "<g id=\"edge9\" class=\"edge\">\n",
       "<title>7&#45;&gt;9</title>\n",
       "<path fill=\"none\" stroke=\"black\" d=\"M646.44,-197.79C667.63,-185.63 691.28,-172.05 712.09,-160.12\"/>\n",
       "<polygon fill=\"black\" stroke=\"black\" points=\"713.5,-162.77 720.43,-154.76 710.01,-156.7 713.5,-162.77\"/>\n",
       "</g>\n",
       "<!-- 11 -->\n",
       "<g id=\"node12\" class=\"node\">\n",
       "<title>11</title>\n",
       "<path fill=\"#399de5\" stroke=\"black\" d=\"M856,-261.38C856,-261.38 711,-261.38 711,-261.38 705,-261.38 699,-255.38 699,-249.38 699,-249.38 699,-218.12 699,-218.12 699,-212.12 705,-206.12 711,-206.12 711,-206.12 856,-206.12 856,-206.12 862,-206.12 868,-212.12 868,-218.12 868,-218.12 868,-249.38 868,-249.38 868,-255.38 862,-261.38 856,-261.38\"/>\n",
       "<text text-anchor=\"middle\" x=\"783.5\" y=\"-244.07\" font-family=\"Helvetica,sans-Serif\" font-size=\"14.00\">gini = 0.0</text>\n",
       "<text text-anchor=\"middle\" x=\"783.5\" y=\"-228.32\" font-family=\"Helvetica,sans-Serif\" font-size=\"14.00\">samples = 24.3%</text>\n",
       "<text text-anchor=\"middle\" x=\"783.5\" y=\"-212.57\" font-family=\"Helvetica,sans-Serif\" font-size=\"14.00\">value = [0.0, 0.0, 1.0, 0.0]</text>\n",
       "</g>\n",
       "<!-- 10&#45;&gt;11 -->\n",
       "<g id=\"edge11\" class=\"edge\">\n",
       "<title>10&#45;&gt;11</title>\n",
       "<path fill=\"none\" stroke=\"black\" d=\"M784.83,-304.79C784.64,-294.45 784.42,-283.08 784.22,-272.57\"/>\n",
       "<polygon fill=\"black\" stroke=\"black\" points=\"787.7,-272.52 784.01,-262.59 780.7,-272.65 787.7,-272.52\"/>\n",
       "</g>\n",
       "<!-- 12 -->\n",
       "<g id=\"node13\" class=\"node\">\n",
       "<title>12</title>\n",
       "<path fill=\"#d739e5\" stroke=\"black\" d=\"M1043,-261.38C1043,-261.38 898,-261.38 898,-261.38 892,-261.38 886,-255.38 886,-249.38 886,-249.38 886,-218.12 886,-218.12 886,-212.12 892,-206.12 898,-206.12 898,-206.12 1043,-206.12 1043,-206.12 1049,-206.12 1055,-212.12 1055,-218.12 1055,-218.12 1055,-249.38 1055,-249.38 1055,-255.38 1049,-261.38 1043,-261.38\"/>\n",
       "<text text-anchor=\"middle\" x=\"970.5\" y=\"-244.07\" font-family=\"Helvetica,sans-Serif\" font-size=\"14.00\">gini = 0.0</text>\n",
       "<text text-anchor=\"middle\" x=\"970.5\" y=\"-228.32\" font-family=\"Helvetica,sans-Serif\" font-size=\"14.00\">samples = 2.7%</text>\n",
       "<text text-anchor=\"middle\" x=\"970.5\" y=\"-212.57\" font-family=\"Helvetica,sans-Serif\" font-size=\"14.00\">value = [0.0, 0.0, 0.0, 1.0]</text>\n",
       "</g>\n",
       "<!-- 10&#45;&gt;12 -->\n",
       "<g id=\"edge12\" class=\"edge\">\n",
       "<title>10&#45;&gt;12</title>\n",
       "<path fill=\"none\" stroke=\"black\" d=\"M847.1,-304.79C868.52,-292.63 892.44,-279.05 913.47,-267.12\"/>\n",
       "<polygon fill=\"black\" stroke=\"black\" points=\"914.95,-269.74 921.92,-261.76 911.49,-263.65 914.95,-269.74\"/>\n",
       "</g>\n",
       "</g>\n",
       "</svg>\n"
      ],
      "text/plain": [
       "<graphviz.sources.Source at 0x7f739302b4d0>"
      ]
     },
     "execution_count": 129,
     "metadata": {},
     "output_type": "execute_result"
    }
   ],
   "source": [
    "graphviz.Source(doc_data)"
   ]
  }
 ],
 "metadata": {
  "kernelspec": {
   "display_name": "dsVenv",
   "language": "python",
   "name": "python3"
  },
  "language_info": {
   "codemirror_mode": {
    "name": "ipython",
    "version": 3
   },
   "file_extension": ".py",
   "mimetype": "text/x-python",
   "name": "python",
   "nbconvert_exporter": "python",
   "pygments_lexer": "ipython3",
   "version": "3.12.1"
  }
 },
 "nbformat": 4,
 "nbformat_minor": 2
}
